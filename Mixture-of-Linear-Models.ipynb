{
 "cells": [
  {
   "cell_type": "code",
   "execution_count": 1,
   "metadata": {},
   "outputs": [],
   "source": [
    "import numpy as np\n",
    "import pandas as pd\n",
    "import plotly.express as px\n",
    "import pymc3 as pm"
   ]
  },
  {
   "cell_type": "code",
   "execution_count": 39,
   "metadata": {
    "tags": []
   },
   "outputs": [],
   "source": [
    "# Generate Data\n",
    "alpha = 100\n",
    "beta = -.5\n",
    "alpha_1 = 0\n",
    "beta_1 = .5\n",
    "\n",
    "a_prob = -20\n",
    "b_prob = .5\n",
    "eps = np.random.normal(0, 2, 100)\n",
    "x = np.random.randint(1,100,100)\n",
    "pi = 1 / (1 + np.exp(-(a_prob + b_prob * x)))\n",
    "y = []\n",
    "for i, _ in enumerate(x):\n",
    "    ind = np.random.binomial(1,pi[i],1)\n",
    "    if ind == 1:\n",
    "        y.append(alpha + beta * x[i] + eps[i])\n",
    "    else:\n",
    "        y.append(alpha_1 + beta_1 * x[i] + eps[i])"
   ]
  },
  {
   "cell_type": "code",
   "execution_count": 40,
   "metadata": {},
   "outputs": [
    {
     "output_type": "display_data",
     "data": {
      "application/vnd.plotly.v1+json": {
       "config": {
        "plotlyServerURL": "https://plot.ly"
       },
       "data": [
        {
         "hovertemplate": "variable=y<br>x=%{x}<br>value=%{y}<extra></extra>",
         "legendgroup": "",
         "marker": {
          "color": "#636efa",
          "symbol": "circle"
         },
         "mode": "markers",
         "name": "",
         "orientation": "v",
         "showlegend": false,
         "type": "scatter",
         "x": [
          79,
          2,
          13,
          36,
          81,
          54,
          56,
          42,
          65,
          46,
          85,
          54,
          54,
          48,
          60,
          65,
          59,
          2,
          29,
          45,
          87,
          98,
          11,
          92,
          69,
          68,
          37,
          79,
          91,
          91,
          60,
          56,
          68,
          52,
          16,
          89,
          87,
          59,
          48,
          99,
          96,
          26,
          12,
          78,
          95,
          77,
          99,
          58,
          99,
          24,
          69,
          55,
          51,
          69,
          48,
          64,
          65,
          85,
          31,
          90,
          49,
          74,
          98,
          3,
          17,
          81,
          50,
          99,
          12,
          56,
          46,
          21,
          85,
          93,
          60,
          81,
          54,
          89,
          75,
          44,
          69,
          16,
          32,
          91,
          20,
          23,
          24,
          30,
          22,
          89,
          92,
          12,
          74,
          14,
          38,
          1,
          17,
          14,
          97,
          96
         ],
         "xaxis": "x",
         "y": [
          60.22472590788626,
          3.82877997857758,
          5.446662024673936,
          18.80250173250112,
          59.181263975705214,
          74.80553792346362,
          73.47321491577154,
          20.248171514090675,
          65.5429400678226,
          76.09066533058889,
          57.24429470487768,
          73.2714451651661,
          74.71641350581098,
          76.1885678311196,
          69.23110571746457,
          64.21100994196264,
          71.3267936576439,
          0.13748984610199422,
          13.949998275849728,
          78.6596129987183,
          57.86513144610388,
          49.37939380611542,
          3.5459958312981277,
          51.82526841870333,
          63.06599022387665,
          64.88848145994395,
          78.71992418966461,
          59.62258416119776,
          57.19007467071145,
          57.46307413817872,
          69.57405930356865,
          69.75530105503537,
          66.65800766361941,
          77.88293355053263,
          10.012378965451967,
          53.7690743478145,
          57.914239783940154,
          71.62026696542699,
          75.97847847156086,
          50.22365525970348,
          48.84811077337185,
          14.088424468863343,
          5.688256909492404,
          63.20715426549975,
          50.57987228821872,
          61.076608377494466,
          51.45797697021809,
          72.34002886998191,
          50.26225887284963,
          12.056943637646857,
          66.75958471876903,
          73.06643938051873,
          76.0548177609874,
          64.1633970692334,
          74.5465022623795,
          70.39437879424251,
          69.5550171523259,
          59.18887327758245,
          13.396134838109194,
          54.97012720497426,
          79.28668390187467,
          64.21048574109895,
          49.764138417675206,
          5.564862078316612,
          10.573496014917895,
          63.35781447970817,
          74.28742069640818,
          51.56764387698922,
          5.877158169150716,
          71.88338613369153,
          80.1369679741526,
          10.663958368977198,
          58.29103273425504,
          51.32904834386216,
          69.04260459385776,
          53.63419664676583,
          72.77660571702408,
          55.53265530597445,
          59.49888955246819,
          76.60097310903927,
          67.3988465412219,
          6.632207480267175,
          17.95544438154575,
          52.771702132979726,
          14.231300472050776,
          13.303718901239675,
          11.989224314629212,
          11.709275706069732,
          9.535196780389885,
          55.36131665679455,
          55.23229839948958,
          6.759045479990241,
          64.16028279893717,
          4.174278023587401,
          80.45259658237296,
          -0.9294389749152909,
          9.724093215163483,
          8.61239064076024,
          52.20207461787328,
          51.75476025254539
         ],
         "yaxis": "y"
        },
        {
         "hovertemplate": "variable=pi<br>x=%{x}<br>value=%{y}<extra></extra>",
         "legendgroup": "",
         "marker": {
          "color": "#636efa",
          "symbol": "circle"
         },
         "mode": "markers",
         "name": "",
         "orientation": "v",
         "showlegend": false,
         "type": "scatter",
         "x": [
          79,
          2,
          13,
          36,
          81,
          54,
          56,
          42,
          65,
          46,
          85,
          54,
          54,
          48,
          60,
          65,
          59,
          2,
          29,
          45,
          87,
          98,
          11,
          92,
          69,
          68,
          37,
          79,
          91,
          91,
          60,
          56,
          68,
          52,
          16,
          89,
          87,
          59,
          48,
          99,
          96,
          26,
          12,
          78,
          95,
          77,
          99,
          58,
          99,
          24,
          69,
          55,
          51,
          69,
          48,
          64,
          65,
          85,
          31,
          90,
          49,
          74,
          98,
          3,
          17,
          81,
          50,
          99,
          12,
          56,
          46,
          21,
          85,
          93,
          60,
          81,
          54,
          89,
          75,
          44,
          69,
          16,
          32,
          91,
          20,
          23,
          24,
          30,
          22,
          89,
          92,
          12,
          74,
          14,
          38,
          1,
          17,
          14,
          97,
          96
         ],
         "xaxis": "x2",
         "y": [
          0.9999999966017321,
          5.602796406145941e-9,
          0.0000013709572068578448,
          0.11920292202211755,
          0.9999999987498471,
          0.9990889488055994,
          0.9996646498695336,
          0.7310585786300049,
          0.9999962733607158,
          0.9525741268224334,
          0.9999999998308102,
          0.9990889488055994,
          0.9990889488055994,
          0.9820137900379085,
          0.9999546021312976,
          0.9999962733607158,
          0.9999251537724895,
          5.602796406145941e-9,
          0.004070137715896128,
          0.9241418199787566,
          0.9999999999377585,
          0.9999999999997455,
          5.043474082014517e-7,
          0.999999999994891,
          0.9999994956525918,
          0.9999991684719722,
          0.18242552380635635,
          0.9999999966017321,
          0.9999999999915765,
          0.9999999999915765,
          0.9999546021312976,
          0.9996646498695336,
          0.9999991684719722,
          0.9975273768433653,
          0.000006144174602214718,
          0.9999999999771028,
          0.9999999999377585,
          0.9999251537724895,
          0.9820137900379085,
          0.9999999999998457,
          0.9999999999993086,
          0.0009110511944006454,
          8.315280276641321e-7,
          0.9999999943972036,
          0.99999999999886,
          0.9999999907625504,
          0.9999999999998457,
          0.9998766054240137,
          0.9999999999998457,
          0.0003353501304664781,
          0.9999994956525918,
          0.9994472213630764,
          0.995929862284104,
          0.9999994956525918,
          0.9820137900379085,
          0.9999938558253978,
          0.9999962733607158,
          0.9999999998308102,
          0.01098694263059318,
          0.999999999986112,
          0.9890130573694068,
          0.9999999586006244,
          0.9999999999997455,
          9.23744957664012e-9,
          0.000010129990980873921,
          0.9999999987498471,
          0.9933071490757153,
          0.9999999999998457,
          8.315280276641321e-7,
          0.9996646498695336,
          0.9525741268224334,
          0.00007484622751061123,
          0.9999999998308102,
          0.9999999999969011,
          0.9999546021312976,
          0.9999999987498471,
          0.9990889488055994,
          0.9999999999771028,
          0.999999974890009,
          0.8807970779778823,
          0.9999994956525918,
          0.000006144174602214718,
          0.01798620996209156,
          0.9999999999915765,
          0.000045397868702434395,
          0.00020342697805520653,
          0.0003353501304664781,
          0.0066928509242848554,
          0.00012339457598623172,
          0.9999999999771028,
          0.999999999994891,
          8.315280276641321e-7,
          0.9999999586006244,
          0.0000022603242979035746,
          0.2689414213699951,
          3.398267807946847e-9,
          0.000010129990980873921,
          0.0000022603242979035746,
          0.9999999999995806,
          0.9999999999993086
         ],
         "yaxis": "y2"
        }
       ],
       "layout": {
        "annotations": [
         {
          "font": {},
          "showarrow": false,
          "text": "variable=y",
          "x": 0.245,
          "xanchor": "center",
          "xref": "paper",
          "y": 1,
          "yanchor": "bottom",
          "yref": "paper"
         },
         {
          "font": {},
          "showarrow": false,
          "text": "variable=pi",
          "x": 0.755,
          "xanchor": "center",
          "xref": "paper",
          "y": 1,
          "yanchor": "bottom",
          "yref": "paper"
         }
        ],
        "legend": {
         "tracegroupgap": 0
        },
        "margin": {
         "t": 60
        },
        "template": {
         "data": {
          "bar": [
           {
            "error_x": {
             "color": "#2a3f5f"
            },
            "error_y": {
             "color": "#2a3f5f"
            },
            "marker": {
             "line": {
              "color": "#E5ECF6",
              "width": 0.5
             }
            },
            "type": "bar"
           }
          ],
          "barpolar": [
           {
            "marker": {
             "line": {
              "color": "#E5ECF6",
              "width": 0.5
             }
            },
            "type": "barpolar"
           }
          ],
          "carpet": [
           {
            "aaxis": {
             "endlinecolor": "#2a3f5f",
             "gridcolor": "white",
             "linecolor": "white",
             "minorgridcolor": "white",
             "startlinecolor": "#2a3f5f"
            },
            "baxis": {
             "endlinecolor": "#2a3f5f",
             "gridcolor": "white",
             "linecolor": "white",
             "minorgridcolor": "white",
             "startlinecolor": "#2a3f5f"
            },
            "type": "carpet"
           }
          ],
          "choropleth": [
           {
            "colorbar": {
             "outlinewidth": 0,
             "ticks": ""
            },
            "type": "choropleth"
           }
          ],
          "contour": [
           {
            "colorbar": {
             "outlinewidth": 0,
             "ticks": ""
            },
            "colorscale": [
             [
              0,
              "#0d0887"
             ],
             [
              0.1111111111111111,
              "#46039f"
             ],
             [
              0.2222222222222222,
              "#7201a8"
             ],
             [
              0.3333333333333333,
              "#9c179e"
             ],
             [
              0.4444444444444444,
              "#bd3786"
             ],
             [
              0.5555555555555556,
              "#d8576b"
             ],
             [
              0.6666666666666666,
              "#ed7953"
             ],
             [
              0.7777777777777778,
              "#fb9f3a"
             ],
             [
              0.8888888888888888,
              "#fdca26"
             ],
             [
              1,
              "#f0f921"
             ]
            ],
            "type": "contour"
           }
          ],
          "contourcarpet": [
           {
            "colorbar": {
             "outlinewidth": 0,
             "ticks": ""
            },
            "type": "contourcarpet"
           }
          ],
          "heatmap": [
           {
            "colorbar": {
             "outlinewidth": 0,
             "ticks": ""
            },
            "colorscale": [
             [
              0,
              "#0d0887"
             ],
             [
              0.1111111111111111,
              "#46039f"
             ],
             [
              0.2222222222222222,
              "#7201a8"
             ],
             [
              0.3333333333333333,
              "#9c179e"
             ],
             [
              0.4444444444444444,
              "#bd3786"
             ],
             [
              0.5555555555555556,
              "#d8576b"
             ],
             [
              0.6666666666666666,
              "#ed7953"
             ],
             [
              0.7777777777777778,
              "#fb9f3a"
             ],
             [
              0.8888888888888888,
              "#fdca26"
             ],
             [
              1,
              "#f0f921"
             ]
            ],
            "type": "heatmap"
           }
          ],
          "heatmapgl": [
           {
            "colorbar": {
             "outlinewidth": 0,
             "ticks": ""
            },
            "colorscale": [
             [
              0,
              "#0d0887"
             ],
             [
              0.1111111111111111,
              "#46039f"
             ],
             [
              0.2222222222222222,
              "#7201a8"
             ],
             [
              0.3333333333333333,
              "#9c179e"
             ],
             [
              0.4444444444444444,
              "#bd3786"
             ],
             [
              0.5555555555555556,
              "#d8576b"
             ],
             [
              0.6666666666666666,
              "#ed7953"
             ],
             [
              0.7777777777777778,
              "#fb9f3a"
             ],
             [
              0.8888888888888888,
              "#fdca26"
             ],
             [
              1,
              "#f0f921"
             ]
            ],
            "type": "heatmapgl"
           }
          ],
          "histogram": [
           {
            "marker": {
             "colorbar": {
              "outlinewidth": 0,
              "ticks": ""
             }
            },
            "type": "histogram"
           }
          ],
          "histogram2d": [
           {
            "colorbar": {
             "outlinewidth": 0,
             "ticks": ""
            },
            "colorscale": [
             [
              0,
              "#0d0887"
             ],
             [
              0.1111111111111111,
              "#46039f"
             ],
             [
              0.2222222222222222,
              "#7201a8"
             ],
             [
              0.3333333333333333,
              "#9c179e"
             ],
             [
              0.4444444444444444,
              "#bd3786"
             ],
             [
              0.5555555555555556,
              "#d8576b"
             ],
             [
              0.6666666666666666,
              "#ed7953"
             ],
             [
              0.7777777777777778,
              "#fb9f3a"
             ],
             [
              0.8888888888888888,
              "#fdca26"
             ],
             [
              1,
              "#f0f921"
             ]
            ],
            "type": "histogram2d"
           }
          ],
          "histogram2dcontour": [
           {
            "colorbar": {
             "outlinewidth": 0,
             "ticks": ""
            },
            "colorscale": [
             [
              0,
              "#0d0887"
             ],
             [
              0.1111111111111111,
              "#46039f"
             ],
             [
              0.2222222222222222,
              "#7201a8"
             ],
             [
              0.3333333333333333,
              "#9c179e"
             ],
             [
              0.4444444444444444,
              "#bd3786"
             ],
             [
              0.5555555555555556,
              "#d8576b"
             ],
             [
              0.6666666666666666,
              "#ed7953"
             ],
             [
              0.7777777777777778,
              "#fb9f3a"
             ],
             [
              0.8888888888888888,
              "#fdca26"
             ],
             [
              1,
              "#f0f921"
             ]
            ],
            "type": "histogram2dcontour"
           }
          ],
          "mesh3d": [
           {
            "colorbar": {
             "outlinewidth": 0,
             "ticks": ""
            },
            "type": "mesh3d"
           }
          ],
          "parcoords": [
           {
            "line": {
             "colorbar": {
              "outlinewidth": 0,
              "ticks": ""
             }
            },
            "type": "parcoords"
           }
          ],
          "pie": [
           {
            "automargin": true,
            "type": "pie"
           }
          ],
          "scatter": [
           {
            "marker": {
             "colorbar": {
              "outlinewidth": 0,
              "ticks": ""
             }
            },
            "type": "scatter"
           }
          ],
          "scatter3d": [
           {
            "line": {
             "colorbar": {
              "outlinewidth": 0,
              "ticks": ""
             }
            },
            "marker": {
             "colorbar": {
              "outlinewidth": 0,
              "ticks": ""
             }
            },
            "type": "scatter3d"
           }
          ],
          "scattercarpet": [
           {
            "marker": {
             "colorbar": {
              "outlinewidth": 0,
              "ticks": ""
             }
            },
            "type": "scattercarpet"
           }
          ],
          "scattergeo": [
           {
            "marker": {
             "colorbar": {
              "outlinewidth": 0,
              "ticks": ""
             }
            },
            "type": "scattergeo"
           }
          ],
          "scattergl": [
           {
            "marker": {
             "colorbar": {
              "outlinewidth": 0,
              "ticks": ""
             }
            },
            "type": "scattergl"
           }
          ],
          "scattermapbox": [
           {
            "marker": {
             "colorbar": {
              "outlinewidth": 0,
              "ticks": ""
             }
            },
            "type": "scattermapbox"
           }
          ],
          "scatterpolar": [
           {
            "marker": {
             "colorbar": {
              "outlinewidth": 0,
              "ticks": ""
             }
            },
            "type": "scatterpolar"
           }
          ],
          "scatterpolargl": [
           {
            "marker": {
             "colorbar": {
              "outlinewidth": 0,
              "ticks": ""
             }
            },
            "type": "scatterpolargl"
           }
          ],
          "scatterternary": [
           {
            "marker": {
             "colorbar": {
              "outlinewidth": 0,
              "ticks": ""
             }
            },
            "type": "scatterternary"
           }
          ],
          "surface": [
           {
            "colorbar": {
             "outlinewidth": 0,
             "ticks": ""
            },
            "colorscale": [
             [
              0,
              "#0d0887"
             ],
             [
              0.1111111111111111,
              "#46039f"
             ],
             [
              0.2222222222222222,
              "#7201a8"
             ],
             [
              0.3333333333333333,
              "#9c179e"
             ],
             [
              0.4444444444444444,
              "#bd3786"
             ],
             [
              0.5555555555555556,
              "#d8576b"
             ],
             [
              0.6666666666666666,
              "#ed7953"
             ],
             [
              0.7777777777777778,
              "#fb9f3a"
             ],
             [
              0.8888888888888888,
              "#fdca26"
             ],
             [
              1,
              "#f0f921"
             ]
            ],
            "type": "surface"
           }
          ],
          "table": [
           {
            "cells": {
             "fill": {
              "color": "#EBF0F8"
             },
             "line": {
              "color": "white"
             }
            },
            "header": {
             "fill": {
              "color": "#C8D4E3"
             },
             "line": {
              "color": "white"
             }
            },
            "type": "table"
           }
          ]
         },
         "layout": {
          "annotationdefaults": {
           "arrowcolor": "#2a3f5f",
           "arrowhead": 0,
           "arrowwidth": 1
          },
          "coloraxis": {
           "colorbar": {
            "outlinewidth": 0,
            "ticks": ""
           }
          },
          "colorscale": {
           "diverging": [
            [
             0,
             "#8e0152"
            ],
            [
             0.1,
             "#c51b7d"
            ],
            [
             0.2,
             "#de77ae"
            ],
            [
             0.3,
             "#f1b6da"
            ],
            [
             0.4,
             "#fde0ef"
            ],
            [
             0.5,
             "#f7f7f7"
            ],
            [
             0.6,
             "#e6f5d0"
            ],
            [
             0.7,
             "#b8e186"
            ],
            [
             0.8,
             "#7fbc41"
            ],
            [
             0.9,
             "#4d9221"
            ],
            [
             1,
             "#276419"
            ]
           ],
           "sequential": [
            [
             0,
             "#0d0887"
            ],
            [
             0.1111111111111111,
             "#46039f"
            ],
            [
             0.2222222222222222,
             "#7201a8"
            ],
            [
             0.3333333333333333,
             "#9c179e"
            ],
            [
             0.4444444444444444,
             "#bd3786"
            ],
            [
             0.5555555555555556,
             "#d8576b"
            ],
            [
             0.6666666666666666,
             "#ed7953"
            ],
            [
             0.7777777777777778,
             "#fb9f3a"
            ],
            [
             0.8888888888888888,
             "#fdca26"
            ],
            [
             1,
             "#f0f921"
            ]
           ],
           "sequentialminus": [
            [
             0,
             "#0d0887"
            ],
            [
             0.1111111111111111,
             "#46039f"
            ],
            [
             0.2222222222222222,
             "#7201a8"
            ],
            [
             0.3333333333333333,
             "#9c179e"
            ],
            [
             0.4444444444444444,
             "#bd3786"
            ],
            [
             0.5555555555555556,
             "#d8576b"
            ],
            [
             0.6666666666666666,
             "#ed7953"
            ],
            [
             0.7777777777777778,
             "#fb9f3a"
            ],
            [
             0.8888888888888888,
             "#fdca26"
            ],
            [
             1,
             "#f0f921"
            ]
           ]
          },
          "colorway": [
           "#636efa",
           "#EF553B",
           "#00cc96",
           "#ab63fa",
           "#FFA15A",
           "#19d3f3",
           "#FF6692",
           "#B6E880",
           "#FF97FF",
           "#FECB52"
          ],
          "font": {
           "color": "#2a3f5f"
          },
          "geo": {
           "bgcolor": "white",
           "lakecolor": "white",
           "landcolor": "#E5ECF6",
           "showlakes": true,
           "showland": true,
           "subunitcolor": "white"
          },
          "hoverlabel": {
           "align": "left"
          },
          "hovermode": "closest",
          "mapbox": {
           "style": "light"
          },
          "paper_bgcolor": "white",
          "plot_bgcolor": "#E5ECF6",
          "polar": {
           "angularaxis": {
            "gridcolor": "white",
            "linecolor": "white",
            "ticks": ""
           },
           "bgcolor": "#E5ECF6",
           "radialaxis": {
            "gridcolor": "white",
            "linecolor": "white",
            "ticks": ""
           }
          },
          "scene": {
           "xaxis": {
            "backgroundcolor": "#E5ECF6",
            "gridcolor": "white",
            "gridwidth": 2,
            "linecolor": "white",
            "showbackground": true,
            "ticks": "",
            "zerolinecolor": "white"
           },
           "yaxis": {
            "backgroundcolor": "#E5ECF6",
            "gridcolor": "white",
            "gridwidth": 2,
            "linecolor": "white",
            "showbackground": true,
            "ticks": "",
            "zerolinecolor": "white"
           },
           "zaxis": {
            "backgroundcolor": "#E5ECF6",
            "gridcolor": "white",
            "gridwidth": 2,
            "linecolor": "white",
            "showbackground": true,
            "ticks": "",
            "zerolinecolor": "white"
           }
          },
          "shapedefaults": {
           "line": {
            "color": "#2a3f5f"
           }
          },
          "ternary": {
           "aaxis": {
            "gridcolor": "white",
            "linecolor": "white",
            "ticks": ""
           },
           "baxis": {
            "gridcolor": "white",
            "linecolor": "white",
            "ticks": ""
           },
           "bgcolor": "#E5ECF6",
           "caxis": {
            "gridcolor": "white",
            "linecolor": "white",
            "ticks": ""
           }
          },
          "title": {
           "x": 0.05
          },
          "xaxis": {
           "automargin": true,
           "gridcolor": "white",
           "linecolor": "white",
           "ticks": "",
           "title": {
            "standoff": 15
           },
           "zerolinecolor": "white",
           "zerolinewidth": 2
          },
          "yaxis": {
           "automargin": true,
           "gridcolor": "white",
           "linecolor": "white",
           "ticks": "",
           "title": {
            "standoff": 15
           },
           "zerolinecolor": "white",
           "zerolinewidth": 2
          }
         }
        },
        "xaxis": {
         "anchor": "y",
         "domain": [
          0,
          0.49
         ],
         "title": {
          "text": "x"
         }
        },
        "xaxis2": {
         "anchor": "y2",
         "domain": [
          0.51,
          1
         ],
         "matches": "x",
         "title": {
          "text": "x"
         }
        },
        "yaxis": {
         "anchor": "x",
         "domain": [
          0,
          1
         ],
         "title": {
          "text": "value"
         }
        },
        "yaxis2": {
         "anchor": "x2",
         "domain": [
          0,
          1
         ],
         "showticklabels": false
        }
       }
      }
     },
     "metadata": {}
    }
   ],
   "source": [
    "df = pd.DataFrame({\n",
    "    'x': x,\n",
    "    'y': y,\n",
    "    'pi': pi\n",
    "})\n",
    "df1 = df.melt(id_vars=\"x\", value_vars=[\"y\", \"pi\"])\n",
    "fig = px.scatter(df1, x = \"x\", y = \"value\", facet_col=\"variable\")\n",
    "fig.layout.yaxis2.update(matches=None)\n",
    "fig.show()"
   ]
  },
  {
   "cell_type": "code",
   "execution_count": 13,
   "metadata": {},
   "outputs": [
    {
     "output_type": "execute_result",
     "data": {
      "text/plain": "    x     y        pi\n0  83  58.5  0.990622\n1  92  54.0  0.992155\n2  84  58.0  0.990806\n3  65  67.5  0.986613\n4  80  60.0  0.990048",
      "text/html": "<div>\n<style scoped>\n    .dataframe tbody tr th:only-of-type {\n        vertical-align: middle;\n    }\n\n    .dataframe tbody tr th {\n        vertical-align: top;\n    }\n\n    .dataframe thead th {\n        text-align: right;\n    }\n</style>\n<table border=\"1\" class=\"dataframe\">\n  <thead>\n    <tr style=\"text-align: right;\">\n      <th></th>\n      <th>x</th>\n      <th>y</th>\n      <th>pi</th>\n    </tr>\n  </thead>\n  <tbody>\n    <tr>\n      <th>0</th>\n      <td>83</td>\n      <td>58.5</td>\n      <td>0.990622</td>\n    </tr>\n    <tr>\n      <th>1</th>\n      <td>92</td>\n      <td>54.0</td>\n      <td>0.992155</td>\n    </tr>\n    <tr>\n      <th>2</th>\n      <td>84</td>\n      <td>58.0</td>\n      <td>0.990806</td>\n    </tr>\n    <tr>\n      <th>3</th>\n      <td>65</td>\n      <td>67.5</td>\n      <td>0.986613</td>\n    </tr>\n    <tr>\n      <th>4</th>\n      <td>80</td>\n      <td>60.0</td>\n      <td>0.990048</td>\n    </tr>\n  </tbody>\n</table>\n</div>"
     },
     "metadata": {},
     "execution_count": 13
    }
   ],
   "source": []
  },
  {
   "cell_type": "code",
   "execution_count": null,
   "metadata": {},
   "outputs": [],
   "source": []
  }
 ],
 "metadata": {
  "language_info": {
   "codemirror_mode": {
    "name": "ipython",
    "version": 3
   },
   "file_extension": ".py",
   "mimetype": "text/x-python",
   "name": "python",
   "nbconvert_exporter": "python",
   "pygments_lexer": "ipython3",
   "version": "3.6.5-final"
  },
  "orig_nbformat": 2,
  "kernelspec": {
   "name": "python_defaultSpec_1594349234377",
   "display_name": "Python 3.6.5 64-bit"
  }
 },
 "nbformat": 4,
 "nbformat_minor": 2
}